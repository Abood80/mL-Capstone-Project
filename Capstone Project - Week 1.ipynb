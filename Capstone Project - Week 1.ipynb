{
 "cells": [
  {
   "cell_type": "markdown",
   "id": "6ce4c623-39be-48e2-863d-d20ed3e2ac93",
   "metadata": {},
   "source": [
    "# Capstone Project - The Battle of Neighborhoods (Week 1)"
   ]
  },
  {
   "cell_type": "markdown",
   "id": "ef249fd2-a19a-45e8-8f38-4ced9064c949",
   "metadata": {},
   "source": [
    "## Introduction"
   ]
  },
  {
   "cell_type": "markdown",
   "id": "49f212ce-b47a-4608-a3f5-436bcd7cc968",
   "metadata": {},
   "source": [
    "The objective of this project is to develop a tool that will help 2 immigrants identify the best location for opening a new ethinc resturant in New York City. The first immigrant is Mr. Lucino, a Phillipino immigrant, who wants to open a new Phillipino resturant and Mrs. Jundi, a Lebanese immigrant, who wants to open a new lebanese resturant. The new immigrants are overwhelmed looking for the best location in the NY, they want this tool to help them narrow down their options by determining the best neighborhood to open their resturants.   "
   ]
  },
  {
   "cell_type": "markdown",
   "id": "17e9835a-b07f-465a-91d5-e99de4cc2013",
   "metadata": {},
   "source": [
    "## Data and Tools"
   ]
  },
  {
   "cell_type": "markdown",
   "id": "9dd12af7-4b6f-4f2e-8a5b-8b08dfcdd8e9",
   "metadata": {},
   "source": [
    "The tool will use NY city neighborhoods and boroughs database used in Week 3 lab for the list of neighborhoods and ther coordinates. Foursquare API will be used to get the venues information. The tool will correlate all the venues categories to identify venues that open in the same proximity then it will identify neighborhoods where the new resturant category (Lebanese or Phillipino) is lacking."
   ]
  }
 ],
 "metadata": {
  "kernelspec": {
   "display_name": "Python 3",
   "language": "python",
   "name": "python3"
  },
  "language_info": {
   "codemirror_mode": {
    "name": "ipython",
    "version": 3
   },
   "file_extension": ".py",
   "mimetype": "text/x-python",
   "name": "python",
   "nbconvert_exporter": "python",
   "pygments_lexer": "ipython3",
   "version": "3.8.8"
  }
 },
 "nbformat": 4,
 "nbformat_minor": 5
}

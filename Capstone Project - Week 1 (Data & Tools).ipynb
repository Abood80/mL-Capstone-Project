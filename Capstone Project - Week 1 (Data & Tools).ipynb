{
 "cells": [
  {
   "cell_type": "markdown",
   "id": "085c7214",
   "metadata": {},
   "source": [
    "# Capstone Project - The Battle of Neighborhoods (Week 1)"
   ]
  },
  {
   "cell_type": "markdown",
   "id": "c2a9baa1",
   "metadata": {},
   "source": [
    "## Data and Tools"
   ]
  },
  {
   "cell_type": "markdown",
   "id": "c71d3c7f",
   "metadata": {},
   "source": [
    "The tool will use NY city neighborhoods and boroughs database used in Week 3 lab for the list of neighborhoods and their coordinates. Foursquare API will be used to get the venues information. The tool will correlate all the venues categories to identify venues that open in the same proximity then it will identify neighborhoods where the new resturant category (Lebanese or Polish) is lacking. Below is the list of libraries used in the project:\n",
    "* numpy: library to handle data in a vectorized manner\n",
    "* pandas: for data analysis\n",
    "* json: to handle JSON files\n",
    "* json_normalize: tranform JSON file into a pandas dataframe\n",
    "* folium: map rendering"
   ]
  }
 ],
 "metadata": {
  "kernelspec": {
   "display_name": "Python 3",
   "language": "python",
   "name": "python3"
  },
  "language_info": {
   "codemirror_mode": {
    "name": "ipython",
    "version": 3
   },
   "file_extension": ".py",
   "mimetype": "text/x-python",
   "name": "python",
   "nbconvert_exporter": "python",
   "pygments_lexer": "ipython3",
   "version": "3.8.8"
  }
 },
 "nbformat": 4,
 "nbformat_minor": 5
}
